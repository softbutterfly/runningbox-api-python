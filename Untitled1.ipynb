{
 "cells": [
  {
   "cell_type": "code",
   "execution_count": 1,
   "metadata": {},
   "outputs": [],
   "source": [
    "import requests"
   ]
  },
  {
   "cell_type": "code",
   "execution_count": 2,
   "metadata": {},
   "outputs": [],
   "source": [
    "client = requests.session()"
   ]
  },
  {
   "cell_type": "code",
   "execution_count": 3,
   "metadata": {},
   "outputs": [],
   "source": [
    "order_url = 'https://runningboxapi.azurewebsites.net/api/orden/'\n",
    "response = client.get(order_url)"
   ]
  },
  {
   "cell_type": "code",
   "execution_count": 4,
   "metadata": {},
   "outputs": [],
   "source": [
    "payload = {\n",
    "    \"CLAVE_API\": \"WiW7X46C9rgckd6pD485wg==\",\n",
    "    \"RUC_BROKER\":\"123456789\",\n",
    "    \"CLIENTE\":\"SoftButterfly\",\n",
    "    \"CLIENTE_RUC\":\"123456789\",\n",
    "    \"NRO_PEDIDO\":\"PRUEBA0006\",\n",
    "    \"PIEZAS\":\"4\",\n",
    "    \"IMP_SEGURO\":None,\n",
    "    \"DESCRIPCION\":\"Caja\",\n",
    "    \"PESO\":\"10.0\",\n",
    "    \"COD\":\"COD\",\n",
    "    \"DD\":\"NO\",\n",
    "    \"IMPORTE_COD\":\"0.00\",\n",
    "    \"SERVICIO\":\"EXPRESS\",\n",
    "    \"CLIENTE_FINAL\":\"PEPITO PEREZ\",\n",
    "    \"DOCUMENTO1\":\"\",\n",
    "    \"NRODOC1\":\"\",\n",
    "    \"DOCUMENTO2\":\"\",\n",
    "    \"NRODOC2\":\"\",\n",
    "    \"DOCUMENTO3\":\"\",\n",
    "    \"NRODOC3\":\"\",\n",
    "    \"DOCUMENTO4\":\"\",\n",
    "    \"NRODOC4\":\"\",\n",
    "    \"TIPO_DOC\":\"1\",\n",
    "    \"NUMERO_DOC\":43610772,\n",
    "    \"UBIGEO\":\"150101\",\n",
    "    \"DEPARTAMENTO\":\"LIMA\",\n",
    "    \"PROVINCIA\":\"LIMA\",\n",
    "    \"DISTRITO\":\"LIMA\",\n",
    "    \"DIRECCION\":\"JR LA MAR 193\",\n",
    "    \"OBSERVACION\":None,\n",
    "    \"MAIL\":\"nataliamurata25@gmail.com\",\n",
    "    \"TELEFONO\":\"976183627\",\n",
    "    \"CONTACTO\":\"Andrea\",\n",
    "    \"NOMBRE_RESP_ALMACEN\":\"Juar Perez (999962212)\",\n",
    "    \"DNI_RESP_ALMACEN\":None,\n",
    "    \"TELEFONO_RESP_ALMACEN\":\"949283129\",\n",
    "    \"ARCO_RESP_ALMACEN\":\"Desde: - Hasta \",\n",
    "    \"DIRECCION_ALMACEN\":\"Av. Santuario Nro. 1323 Zarate (1323-1325 Alt Cdra 12 de la Avda Chimu)\",\n",
    "    \"UBIGEO_ALMACEN\": \"150132\",\n",
    "    \"FLAG_INVERSA\":0,\n",
    "    \"FLAG_CANAL\":1,\n",
    "    \"NOTAS\":\"\",\n",
    "    \"PRODUCTOS\":[\n",
    "        {\n",
    "            \"NOMBRE\":\"Delirium - BVD Hombre Addiction - Talla : XL - Color : Blanco y Rojo\",\n",
    "            \"DESCRIPCION\":\"delirium-bvd-hombre-addiction-1-018171\",\n",
    "            \"SKU\":\"DBH-XXX-BLRJ-XL\",\n",
    "            \"PESO\":10\n",
    "        }\n",
    "    ]\n",
    "}"
   ]
  },
  {
   "cell_type": "code",
   "execution_count": 5,
   "metadata": {},
   "outputs": [],
   "source": [
    "response = client.post(order_url, data=payload)"
   ]
  },
  {
   "cell_type": "code",
   "execution_count": 6,
   "metadata": {},
   "outputs": [
    {
     "data": {
      "text/plain": [
       "b'{\"ID_OS\":383937,\"NRO_ORDEN\":\"1000338088\",\"ID_RSPTA\":0,\"DES_RSPTA\":\"YA EXISTE EL PEDIDO CON LA ORDEN 1000338088\",\"FECHA\":\"8/2/2019 3:32:37 PM\"}'"
      ]
     },
     "execution_count": 6,
     "metadata": {},
     "output_type": "execute_result"
    }
   ],
   "source": [
    "response.content"
   ]
  },
  {
   "cell_type": "code",
   "execution_count": 7,
   "metadata": {},
   "outputs": [
    {
     "data": {
      "text/plain": [
       "b'{\"ID_OS\":383937,\"NRO_ORDEN\":\"1000338088\",\"ID_RSPTA\":0,\"DES_RSPTA\":\"YA EXISTE EL PEDIDO CON LA ORDEN 1000338088\",\"FECHA\":\"8/2/2019 3:32:37 PM\"}'"
      ]
     },
     "execution_count": 7,
     "metadata": {},
     "output_type": "execute_result"
    }
   ],
   "source": [
    "response.content"
   ]
  },
  {
   "cell_type": "code",
   "execution_count": 8,
   "metadata": {},
   "outputs": [
    {
     "data": {
      "text/plain": [
       "1000338086"
      ]
     },
     "execution_count": 8,
     "metadata": {},
     "output_type": "execute_result"
    }
   ],
   "source": [
    "1000338086"
   ]
  },
  {
   "cell_type": "code",
   "execution_count": 9,
   "metadata": {},
   "outputs": [],
   "source": [
    "url = \"http://runningbox.azurewebsites.net/Orden/ListaTracking/PRUEBA001\"\n",
    "response = client.get(url)\n"
   ]
  },
  {
   "cell_type": "code",
   "execution_count": 10,
   "metadata": {},
   "outputs": [],
   "source": [
    "data = {\n",
    "    \"nrodocumento\":\"123456789\"\n",
    "}"
   ]
  },
  {
   "cell_type": "code",
   "execution_count": 11,
   "metadata": {},
   "outputs": [],
   "source": [
    "response = client.post(url,params=data)"
   ]
  },
  {
   "cell_type": "code",
   "execution_count": 15,
   "metadata": {},
   "outputs": [],
   "source": [
    "a = response.text"
   ]
  },
  {
   "cell_type": "code",
   "execution_count": 17,
   "metadata": {},
   "outputs": [
    {
     "data": {
      "text/plain": [
       "'<!doctype html>\\r\\n\\r\\n\\r\\n\\r\\n<html>\\r\\n<head>\\r\\n    <meta http-equiv=\"X-UA-Compatible\" content=\"IE=10; IE=EmulateIE10\" />\\r\\n    <meta charset=\"utf-8\">\\r\\n    <title>RunningBox</title>\\r\\n    <link href=\"/Content/css/bootstrap.css\" rel=\"stylesheet\" />\\r\\n    <link href=\"/Content/css/bootstrap_extend.css\" rel=\"stylesheet\" />\\r\\n    <link href=\"/Content/css/bootstrap-select.css\" rel=\"stylesheet\" />\\r\\n    <link href=\"/Content/css/jquery-ui.css\" rel=\"stylesheet\" />\\r\\n    <link href=\"/Content/css/font-awesome.css\" rel=\"stylesheet\" />\\r\\n    <link href=\"/Content/css/styles.css\" rel=\"stylesheet\" />\\r\\n\\r\\n    <script src=\"/Scripts/core/jquery.js\"></script>\\r\\n    <script src=\"/Scripts/core/jquery-ui.min.js\"></script>\\r\\n    <script src=\"/Scripts/core/bootstrap.min.js\"></script>\\r\\n    <script src=\"/Scripts/core/bootstrap-select.min.js\"></script>\\r\\n    <script src=\"/Scripts/core/jquery.paginate.js\"></script>\\r\\n    <script src=\"/Scripts/core/paginacionhandler.js\"></script>\\r\\n    <script src=\"/Scripts/core/util.dhh.js\"></script>\\r\\n    <script src=\"/Scripts/core/jquery.unobtrusive-ajax.min.js\"></script>\\r\\n    <script src=\"/Scripts/base/modBase.js\"></script>\\r\\n    <script src=\"/Scripts/core/bootbox.js\"></script>\\r\\n    <script src=\"/Scripts/base/modMensajes.js\"></script>\\r\\n\\r\\n\\r\\n    <script>\\r\\n        var globalRutaServidor = \\'/\\';\\r\\n        var globalDatoObligatorio = \"Dato obligatorio\";\\r\\n    </script>\\r\\n\\r\\n    <script>\\r\\n        $(function () {\\r\\n            $(\\'#selectMenuMain\\').selectpicker();\\r\\n        });\\r\\n\\r\\n    </script>\\r\\n\\r\\n\\r\\n</head>\\r\\n\\r\\n<body>\\r\\n    <header class=\"header\" id=\"cabecera\">\\r\\n        <div class=\"contentWrap\">\\r\\n            <div class=\"logoTop\">\\r\\n                <a href=\"http://runningbox.pe/\">\\r\\n\\r\\n                    <img src=\"/Content/img/slogan5.png\"/>\\r\\n                </a>\\r\\n            </div>\\r\\n            <div class=\"titleWebSystem text-right\" >\\r\\n                Sistema de Seguimiento\\r\\n            </div>\\r\\n        </div>\\r\\n    </header>\\r\\n        <nav class=\"navigation\">\\r\\n            <div class=\"contentWrap\">\\r\\n                <div class=\"contentMenuMain\">\\r\\n                    \\r\\n                    <nav id=\"contentMenu\">\\r\\n                        <ul id=\"menuMain\">\\r\\n                          <li>\\r\\n        <a href=\"/Orden/ListaTracking/PRUEBA001\">Reporte de Ordenes & Tracking</a>\\r\\n                            </li>\\r\\n                         <!--      <li>\\r\\n                                <a href=\"/Orden/Tracking\">Tracking</a>\\r\\n                            </li>\\r\\n                            <li>\\r\\n                                <a href=\"#\">Reportes</a>\\r\\n                                <div class=\"subMenu\">\\r\\n                                    <div class=\"contentSubMenu\">\\r\\n                                        <ul class=\"menuSecondary\">\\r\\n                                            <li>\\r\\n                                                <a href=\"/Reclamo/ReporteRelacionReclamos\">Tracking de Booking</a>\\r\\n                                            </li>\\r\\n                                            <li>\\r\\n                                                <a href=\"/Reclamo/ReporteReclamoPorEstado\">Consulta de Booking</a>\\r\\n                                            </li>\\r\\n                                            <li>\\r\\n                                                <a href=\"/Reclamo/ReporteConsolidacionReclamos\">Reportes....</a>\\r\\n                                            </li>\\r\\n                                        </ul>\\r\\n                                    </div>\\r\\n\\r\\n                                </div>\\r\\n                            </li>\\r\\n                            <li>\\r\\n                                <a href=\"/ReclamoPersona/Index\">Mantenimientos</a>\\r\\n                            </li>-->\\r\\n                        </ul>\\r\\n                    </nav>\\r\\n\\r\\n                </div>\\r\\n\\r\\n            </div>\\r\\n            <div class=\"contentWrap\">\\r\\n                <div class=\"titlePage\">\\r\\n                    \\r\\n                </div>\\r\\n            </div>\\r\\n        </nav>\\r\\n    <section class=\"contentPage\">\\r\\n        <div class=\"main\">\\r\\n            <div class=\"pageContent\">\\r\\n                <div class=\"allContent\">\\r\\n                    \\r\\n<div class=\"container-fluid\">\\r\\n<form action=\"/Orden/ListaTracking/PRUEBA001\" class=\"apuntar\" data-ajax=\"true\" data-ajax-method=\"post\" data-ajax-mode=\"replace\" data-ajax-update=\"#divParcial\" id=\"formLista\" method=\"post\">            <div class=\"row\">\\r\\n                <div class=\"panel-body\" style=\"border:none\">\\r\\n                    \\r\\n\\r\\n                               <div class=\"col-sm-8 col-md-8\">\\r\\n                            <div class=\"form-group\">\\r\\n                                <div class=\"col-lg-12\">\\r\\n                                    <input type=\"text\" id=\"id\" placeholder=\"Nùmero de pedido\"  name=\"id\" class=\"\" value=PRUEBA001>\\r\\n                                </div>\\r\\n                            </div>\\r\\n                        </div>\\r\\n                    </div>\\r\\n                </div>\\r\\n        <div class=\"panel-footer\">\\r\\n                    <button type=\"submit\" class=\"btn btn-primary btn-sm\">\\r\\n                        <i class=\"glyphicon glyphicon-zoom-in\"></i>\\r\\n                        Buscar\\r\\n                    </button>\\r\\n        </div>\\r\\n        <div id=\"divParcial\">\\r\\n            <link rel=\"stylesheet\" href=\"http://issues.wenzhixin.net.cn/bootstrap-table/assets/bootstrap/css/bootstrap.min.css\">\\r\\n<link rel=\"stylesheet\" href=\"http://issues.wenzhixin.net.cn/bootstrap-table/assets/bootstrap-table/src/bootstrap-table.css\">\\r\\n<link rel=\"stylesheet\" href=\"http://issues.wenzhixin.net.cn/bootstrap-table/assets/examples.css\">\\r\\n<script src=\"http://issues.wenzhixin.net.cn/bootstrap-table/assets/jquery.min.js\"></script>\\r\\n<script src=\"http://issues.wenzhixin.net.cn/bootstrap-table/assets/bootstrap/js/bootstrap.min.js\"></script>\\r\\n<script src=\"http://issues.wenzhixin.net.cn/bootstrap-table/assets/bootstrap-table/src/bootstrap-table.js\"></script>\\r\\n<script src=\"http://issues.wenzhixin.net.cn/bootstrap-table/assets/bootstrap-table/src/extensions/export/bootstrap-table-export.js\"></script>\\r\\n<script src=\"//rawgit.com/hhurz/tableExport.jquery.plugin/master/tableExport.js\"></script>\\r\\n<script src=\"http://issues.wenzhixin.net.cn/bootstrap-table/ga.js\"></script>\\r\\n\\r\\n<script src=\"http://issues.wenzhixin.net.cn/bootstrap-table/assets/bootstrap-table/src/extensions/flat-json/bootstrap-table-flat-json.js\"></script>\\r\\n<script src=\"http://issues.wenzhixin.net.cn/bootstrap-table/assets/bootstrap-table/src/extensions/resizable/bootstrap-table-resizable.js\"></script>\\r\\n<script src=\"https://rawgit.com/wenzhixin/colResizable/master/source/colResizable-1.5.source.js\"></script>\\r\\n<script src=\"http://issues.wenzhixin.net.cn/bootstrap-table/assets/bootstrap-table/src/extensions/filter-control/bootstrap-table-filter-control.js\"></script>\\r\\n<script src=\"http://issues.wenzhixin.net.cn/bootstrap-table/assets/bootstrap-table/src/extensions/toolbar/bootstrap-table-toolbar.js\"></script>\\r\\n<script src=\"http://issues.wenzhixin.net.cn/bootstrap-table/assets/bootstrap-table/src/extensions/multiple-sort/bootstrap-table-multiple-sort.js\"></script>\\r\\n<script src=\"http://issues.wenzhixin.net.cn/bootstrap-table/assets/bootstrap-table/src/extensions/key-events/bootstrap-table-key-events.js\"></script>\\r\\n<script src=\"http://www.jqueryscript.net/demo/Export-Html-Table-To-Excel-Spreadsheet-using-jQuery-table2excel/src/jquery.table2excel.js\"></script>\\r\\n<link href=\"/Content/css/bootstrap.css\" rel=\"stylesheet\" />\\r\\n        <div class=\"row\">\\r\\n            <div class=\"container-fluid\">\\r\\n                <div class=\"table-responsive\">\\r\\n\\r\\n                    <table id=\"table\"\\r\\n                           class=\"table table-striped table-bordered table-hover table-condensed\">\\r\\n                        <thead class=\"small\">\\r\\n                            <tr class=\"text-center\">\\r\\n                                <th class=\"text-center\">\\r\\n                                    Nro OS\\r\\n                                </th>\\r\\n                                <th class=\"text-center\">\\r\\n                                    Proveedor\\r\\n                                </th>\\r\\n                                <th class=\"text-center\">\\r\\n                                    Ciudad\\r\\n                                </th>\\r\\n                                <th class=\"text-center\">\\r\\n                                    Evento\\r\\n                                </th>\\r\\n                                <th class=\"text-center\">\\r\\n                                    Fecha\\r\\n                                </th>\\r\\n                                <th class=\"text-center\">\\r\\n                                    Hora\\r\\n                                </th>\\r\\n                                <th class=\"text-center\">\\r\\n                                    Observacion\\r\\n                                </th>\\r\\n                                <th class=\"text-center\">\\r\\n                                    Mapa\\r\\n                                </th>\\r\\n                                <th class=\"text-center\">\\r\\n                                    Imagen\\r\\n                                </th>\\r\\n                                <th class=\"text-center\">\\r\\n                                    Imagen\\r\\n                                </th>\\r\\n                            </tr>\\r\\n                        </thead>\\r\\n                        <tbody>\\r\\n                                <tr>\\r\\n                                    <td>\\r\\n                                        1000337135\\r\\n                                    </td>\\r\\n                                    <td>\\r\\n                                        MODU PRUEBAS\\r\\n                                    </td>\\r\\n                                    <td>\\r\\n                                        LIMA\\r\\n                                    </td>\\r\\n                                    <td>\\r\\n                                        CREADO\\r\\n                                    </td>\\r\\n                                    <td>\\r\\n                                        26/07/2019\\r\\n                                    </td>\\r\\n                                    <td>\\r\\n                                        15:57:17\\r\\n                                    </td>\\r\\n                                    <td>\\r\\n                                        \\r\\n                                    </td>\\r\\n                                    <td>\\r\\n---                                    </td>\\r\\n                                    <td> \\r\\n---                                    </td>\\r\\n                                    <td>\\r\\n---                                    </td>\\r\\n                                </tr>\\r\\n                        </tbody>\\r\\n                    </table>\\r\\n                    \\r\\n                </div>\\r\\n             \\r\\n               \\r\\n            </div>\\r\\n        </div>\\r\\n\\r\\n\\r\\n        </div>\\r\\n</form>\\r\\n  \\r\\n</div>\\r\\n\\r\\n\\r\\n\\r\\n\\r\\n\\r\\n\\r\\n\\r\\n\\r\\n\\r\\n\\r\\n\\r\\n\\r\\n                    \\r\\n                </div>\\r\\n            </div>\\r\\n        </div>\\r\\n\\r\\n        <footer class=\"footer\">\\r\\n            <div class=\"contentWrap\">\\r\\n                   \\r\\n                Calle Suecia 1261 Urb San Rafael Cercado de Lima\\r\\n                <img src=\"/Content/img/icoPhone.png\" alt=\"\" />\\r\\n                Atención al cliente: 7748710  / Ventas: 937201798\\r\\n                        \\r\\n                <img src=\"/Content/img/icoMail.png\" alt=\"\" />servicioalcliente@runnigbox.pe / informes@runningbox.pe \\r\\n            </div>\\r\\n        </footer>\\r\\n\\r\\n    </section>\\r\\n\\r\\n    <div class=\"resolutionOff\">\\r\\n        No soporta en esta resolución!\\r\\n    </div>\\r\\n\\r\\n    <div id=\"divModalSenace\" class=\"modal fade in divModalSenace\" tabindex=\"-1\" role=\"dialog\">\\r\\n        <div class=\"contenedorSenace\"> </div>\\r\\n    </div>\\r\\n\\r\\n    <div id=\"resultadoAlerta\" class=\"container\">\\r\\n    </div>\\r\\n\\r\\n</body>\\r\\n</html>\\r\\n'"
      ]
     },
     "execution_count": 17,
     "metadata": {},
     "output_type": "execute_result"
    }
   ],
   "source": [
    "a"
   ]
  },
  {
   "cell_type": "code",
   "execution_count": 56,
   "metadata": {},
   "outputs": [
    {
     "data": {
      "text/plain": [
       "'http://runningbox.azurewebsites.net/Orden/ListaTracking/PRUEBA001?nrodocumento=123456789'"
      ]
     },
     "execution_count": 56,
     "metadata": {},
     "output_type": "execute_result"
    }
   ],
   "source": [
    "response.url"
   ]
  },
  {
   "cell_type": "code",
   "execution_count": null,
   "metadata": {},
   "outputs": [],
   "source": []
  },
  {
   "cell_type": "code",
   "execution_count": null,
   "metadata": {},
   "outputs": [],
   "source": []
  }
 ],
 "metadata": {
  "kernelspec": {
   "display_name": "Python 3",
   "language": "python",
   "name": "python3"
  },
  "language_info": {
   "codemirror_mode": {
    "name": "ipython",
    "version": 3
   },
   "file_extension": ".py",
   "mimetype": "text/x-python",
   "name": "python",
   "nbconvert_exporter": "python",
   "pygments_lexer": "ipython3",
   "version": "3.7.3"
  }
 },
 "nbformat": 4,
 "nbformat_minor": 4
}

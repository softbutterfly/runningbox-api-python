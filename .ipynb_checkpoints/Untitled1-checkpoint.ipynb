{
 "cells": [
  {
   "cell_type": "code",
   "execution_count": 5,
   "metadata": {},
   "outputs": [],
   "source": [
    "import requests"
   ]
  },
  {
   "cell_type": "code",
   "execution_count": 6,
   "metadata": {},
   "outputs": [],
   "source": [
    "client = requests.session()"
   ]
  },
  {
   "cell_type": "code",
   "execution_count": 7,
   "metadata": {},
   "outputs": [],
   "source": [
    "order_url = 'https://runningboxapi.azurewebsites.net/api/orden/'\n",
    "response = client.get(order_url)"
   ]
  },
  {
   "cell_type": "code",
   "execution_count": 8,
   "metadata": {},
   "outputs": [],
   "source": [
    "payload = {\n",
    "    \"CLAVE_API\": \"WiW7X46C9rgckd6pD485wg==\",\n",
    "    \"RUC_BROKER\":\"123456789\",\n",
    "    \"CLIENTE\":\"SoftButterfly\",\n",
    "    \"CLIENTE_RUC\":\"123456789\",\n",
    "    \"NRO_PEDIDO\":\"PRUEBA0006\",\n",
    "    \"PIEZAS\":\"4\",\n",
    "    \"IMP_SEGURO\":None,\n",
    "    \"DESCRIPCION\":\"Caja\",\n",
    "    \"PESO\":\"10.0\",\n",
    "    \"COD\":\"COD\",\n",
    "    \"DD\":\"NO\",\n",
    "    \"IMPORTE_COD\":\"0.00\",\n",
    "    \"SERVICIO\":\"EXPRESS\",\n",
    "    \"CLIENTE_FINAL\":\"PEPITO PEREZ\",\n",
    "    \"DOCUMENTO1\":\"\",\n",
    "    \"NRODOC1\":\"\",\n",
    "    \"DOCUMENTO2\":\"\",\n",
    "    \"NRODOC2\":\"\",\n",
    "    \"DOCUMENTO3\":\"\",\n",
    "    \"NRODOC3\":\"\",\n",
    "    \"DOCUMENTO4\":\"\",\n",
    "    \"NRODOC4\":\"\",\n",
    "    \"TIPO_DOC\":\"1\",\n",
    "    \"NUMERO_DOC\":43610772,\n",
    "    \"UBIGEO\":\"150101\",\n",
    "    \"DEPARTAMENTO\":\"LIMA\",\n",
    "    \"PROVINCIA\":\"LIMA\",\n",
    "    \"DISTRITO\":\"LIMA\",\n",
    "    \"DIRECCION\":\"JR LA MAR 193\",\n",
    "    \"OBSERVACION\":None,\n",
    "    \"MAIL\":\"nataliamurata25@gmail.com\",\n",
    "    \"TELEFONO\":\"976183627\",\n",
    "    \"CONTACTO\":\"Andrea\",\n",
    "    \"NOMBRE_RESP_ALMACEN\":\"Juar Perez (999962212)\",\n",
    "    \"DNI_RESP_ALMACEN\":None,\n",
    "    \"TELEFONO_RESP_ALMACEN\":\"949283129\",\n",
    "    \"ARCO_RESP_ALMACEN\":\"Desde: - Hasta \",\n",
    "    \"DIRECCION_ALMACEN\":\"Av. Santuario Nro. 1323 Zarate (1323-1325 Alt Cdra 12 de la Avda Chimu)\",\n",
    "    \"UBIGEO_ALMACEN\": \"150132\",\n",
    "    \"FLAG_INVERSA\":0,\n",
    "    \"FLAG_CANAL\":1,\n",
    "    \"NOTAS\":\"\",\n",
    "    \"PRODUCTOS\":[\n",
    "        {\n",
    "            \"NOMBRE\":\"Delirium - BVD Hombre Addiction - Talla : XL - Color : Blanco y Rojo\",\n",
    "            \"DESCRIPCION\":\"delirium-bvd-hombre-addiction-1-018171\",\n",
    "            \"SKU\":\"DBH-XXX-BLRJ-XL\",\n",
    "            \"PESO\":10\n",
    "        }\n",
    "    ]\n",
    "}"
   ]
  },
  {
   "cell_type": "code",
   "execution_count": 9,
   "metadata": {},
   "outputs": [],
   "source": [
    "response = client.post(order_url, data=payload)"
   ]
  },
  {
   "cell_type": "code",
   "execution_count": 10,
   "metadata": {},
   "outputs": [
    {
     "data": {
      "text/plain": [
       "b'{\"ID_OS\":383937,\"NRO_ORDEN\":\"1000338088\",\"ID_RSPTA\":0,\"DES_RSPTA\":\"YA EXISTE EL PEDIDO CON LA ORDEN 1000338088\",\"FECHA\":\"8/2/2019 3:26:09 PM\"}'"
      ]
     },
     "execution_count": 10,
     "metadata": {},
     "output_type": "execute_result"
    }
   ],
   "source": [
    "response.content"
   ]
  },
  {
   "cell_type": "code",
   "execution_count": 11,
   "metadata": {},
   "outputs": [
    {
     "data": {
      "text/plain": [
       "b'{\"ID_OS\":383937,\"NRO_ORDEN\":\"1000338088\",\"ID_RSPTA\":0,\"DES_RSPTA\":\"YA EXISTE EL PEDIDO CON LA ORDEN 1000338088\",\"FECHA\":\"8/2/2019 3:26:09 PM\"}'"
      ]
     },
     "execution_count": 11,
     "metadata": {},
     "output_type": "execute_result"
    }
   ],
   "source": [
    "response.content"
   ]
  },
  {
   "cell_type": "code",
   "execution_count": 12,
   "metadata": {},
   "outputs": [
    {
     "data": {
      "text/plain": [
       "1000338086"
      ]
     },
     "execution_count": 12,
     "metadata": {},
     "output_type": "execute_result"
    }
   ],
   "source": [
    "1000338086"
   ]
  },
  {
   "cell_type": "code",
   "execution_count": 13,
   "metadata": {},
   "outputs": [],
   "source": [
    "url = \"http://runningbox.azurewebsites.net/Orden/ListaTracking/PRUEBA001\"\n",
    "response = client.get(url)\n"
   ]
  },
  {
   "cell_type": "code",
   "execution_count": 14,
   "metadata": {},
   "outputs": [],
   "source": [
    "data = {\n",
    "    \"nrodocumento\":\"123456789\"\n",
    "}"
   ]
  },
  {
   "cell_type": "code",
   "execution_count": 53,
   "metadata": {},
   "outputs": [],
   "source": [
    "response = client.post(url,params=data)"
   ]
  },
  {
   "cell_type": "code",
   "execution_count": 57,
   "metadata": {},
   "outputs": [
    {
     "ename": "TypeError",
     "evalue": "'str' object is not callable",
     "output_type": "error",
     "traceback": [
      "\u001b[0;31m---------------------------------------------------------------------------\u001b[0m",
      "\u001b[0;31mTypeError\u001b[0m                                 Traceback (most recent call last)",
      "\u001b[0;32m<ipython-input-57-de49f15f934f>\u001b[0m in \u001b[0;36m<module>\u001b[0;34m\u001b[0m\n\u001b[0;32m----> 1\u001b[0;31m \u001b[0mresponse\u001b[0m\u001b[0;34m.\u001b[0m\u001b[0mtext\u001b[0m\u001b[0;34m(\u001b[0m\u001b[0;34m)\u001b[0m\u001b[0;34m\u001b[0m\u001b[0;34m\u001b[0m\u001b[0m\n\u001b[0m",
      "\u001b[0;31mTypeError\u001b[0m: 'str' object is not callable"
     ]
    }
   ],
   "source": [
    "response.content"
   ]
  },
  {
   "cell_type": "code",
   "execution_count": 56,
   "metadata": {},
   "outputs": [
    {
     "data": {
      "text/plain": [
       "'http://runningbox.azurewebsites.net/Orden/ListaTracking/PRUEBA001?nrodocumento=123456789'"
      ]
     },
     "execution_count": 56,
     "metadata": {},
     "output_type": "execute_result"
    }
   ],
   "source": [
    "response.url"
   ]
  },
  {
   "cell_type": "code",
   "execution_count": null,
   "metadata": {},
   "outputs": [],
   "source": []
  },
  {
   "cell_type": "code",
   "execution_count": null,
   "metadata": {},
   "outputs": [],
   "source": []
  }
 ],
 "metadata": {
  "kernelspec": {
   "display_name": "Python 3",
   "language": "python",
   "name": "python3"
  },
  "language_info": {
   "codemirror_mode": {
    "name": "ipython",
    "version": 3
   },
   "file_extension": ".py",
   "mimetype": "text/x-python",
   "name": "python",
   "nbconvert_exporter": "python",
   "pygments_lexer": "ipython3",
   "version": "3.7.3"
  }
 },
 "nbformat": 4,
 "nbformat_minor": 4
}

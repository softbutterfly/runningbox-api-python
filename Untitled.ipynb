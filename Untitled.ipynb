{
 "cells": [
  {
   "cell_type": "code",
   "execution_count": 1,
   "metadata": {},
   "outputs": [],
   "source": [
    "from runningbox_api.client import Client"
   ]
  },
  {
   "cell_type": "code",
   "execution_count": 2,
   "metadata": {},
   "outputs": [],
   "source": [
    "client = Client('WiW7X46C9rgckd6pD485wg==', '123456789')"
   ]
  },
  {
   "cell_type": "code",
   "execution_count": 3,
   "metadata": {},
   "outputs": [
    {
     "name": "stdout",
     "output_type": "stream",
     "text": [
      "*** *** **\n",
      "https://runningboxapi.azurewebsites.net/api/orden/\n",
      "*** *** **\n"
     ]
    },
    {
     "data": {
      "text/plain": [
       "{'status': 200,\n",
       " 'data': {'ID_OS': 384255,\n",
       "  'NRO_ORDEN': '1000338396',\n",
       "  'ID_RSPTA': 71,\n",
       "  'DES_RSPTA': 'CREADO',\n",
       "  'FECHA': '8/2/2019 4:01:47 PM'}}"
      ]
     },
     "execution_count": 3,
     "metadata": {},
     "output_type": "execute_result"
    }
   ],
   "source": [
    "client.order.order_service(\n",
    "    {\n",
    "    \"CLAVE_API\": \"WiW7X46C9rgckd6pD485wg==\",\n",
    "    \"RUC_BROKER\":\"123456789\",\n",
    "    \"CLIENTE\":\"Luis Fernando\",\n",
    "    \"CLIENTE_RUC\":\"123456789\",\n",
    "    \"NRO_PEDIDO\":\"PRUEBA71\",\n",
    "    \"PIEZAS\":\"10\",\n",
    "    \"IMP_SEGURO\":None,\n",
    "    \"DESCRIPCION\":\"Caja Nega\",\n",
    "    \"PESO\":\"10.0\",\n",
    "    \"COD\":\"COD\",\n",
    "    \"DD\":\"NO\",\n",
    "    \"IMPORTE_COD\":\"10.00\",\n",
    "    \"SERVICIO\":\"EXPRESS ALICOR\",\n",
    "    \"CLIENTE_FINAL\":\"MARCOS OCHOA\",\n",
    "    \"DOCUMENTO1\":\"741384848\",\n",
    "    \"NRODOC1\":\"\",\n",
    "    \"DOCUMENTO2\":\"\",\n",
    "    \"NRODOC2\":\"\",\n",
    "    \"DOCUMENTO3\":\"\",\n",
    "    \"NRODOC3\":\"\",\n",
    "    \"DOCUMENTO4\":\"\",\n",
    "    \"NRODOC4\":\"\",\n",
    "    \"TIPO_DOC\":\"1\",\n",
    "    \"NUMERO_DOC\":43610772,\n",
    "    \"UBIGEO\":\"150101\",\n",
    "    \"DEPARTAMENTO\":\"LIMA\",\n",
    "    \"PROVINCIA\":\"LIMA\",\n",
    "    \"DISTRITO\":\"LIMA\",\n",
    "    \"DIRECCION\":\"JR LA MAR 1000\",\n",
    "    \"OBSERVACION\":None,\n",
    "    \"MAIL\":\"luis@gmail.com\",\n",
    "    \"TELEFONO\":\"976183627\",\n",
    "    \"CONTACTO\":\"Solange\",\n",
    "    \"NOMBRE_RESP_ALMACEN\":\"Pedro Perez (999962212)\",\n",
    "    \"DNI_RESP_ALMACEN\":None,\n",
    "    \"TELEFONO_RESP_ALMACEN\":\"949283129\",\n",
    "    \"ARCO_RESP_ALMACEN\":\"Desde: - Hasta \",\n",
    "    \"DIRECCION_ALMACEN\":\"Av. Santuario Nro. 1323 Zarate (1323-1325 Alt Cdra 12 de la Avda Chimu)\",\n",
    "    \"UBIGEO_ALMACEN\": \"150132\",\n",
    "    \"FLAG_INVERSA\":0,\n",
    "    \"FLAG_CANAL\":1,\n",
    "    \"NOTAS\":\"\",\n",
    "    \"PRODUCTOS\":[\n",
    "        {\n",
    "            \"NOMBRE\":\"Delirium - BVD Hombre Addiction - Talla : XL - Color : Azul y Negro\",\n",
    "            \"DESCRIPCION\":\"delirium-bvd-hombre-addiction-1-018171\",\n",
    "            \"SKU\":\"DBH-ADD-BLRJ-XL\",\n",
    "            \"PESO\":10\n",
    "        }\n",
    "    ]\n",
    "}\n",
    "\n",
    ")"
   ]
  },
  {
   "cell_type": "code",
   "execution_count": 4,
   "metadata": {},
   "outputs": [
    {
     "name": "stdout",
     "output_type": "stream",
     "text": [
      "*** **** ***\n",
      "https://croiii.azurewebsites.net/home/GetCalculo\n",
      "*** **** ***\n",
      "*** *** **\n",
      "https://croiii.azurewebsites.net/home/GetCalculo\n",
      "*** *** **\n"
     ]
    },
    {
     "data": {
      "text/plain": [
       "{'status': 200, 'data': 63.8}"
      ]
     },
     "execution_count": 4,
     "metadata": {},
     "output_type": "execute_result"
    }
   ],
   "source": [
    "client.rate.rate_service(\n",
    "    {\n",
    "        \"clave_api\":\"WiW7X46C9rgckd6pD485wg==\",\n",
    "        \"ubigeo\":\"150101\",\n",
    "        \"servicio\":\"EXPRESS ALICOR\",\n",
    "        \"peso\":\"50\",\n",
    "    }\n",
    ")"
   ]
  },
  {
   "cell_type": "code",
   "execution_count": 5,
   "metadata": {},
   "outputs": [
    {
     "name": "stdout",
     "output_type": "stream",
     "text": [
      "*** *** **\n",
      "http://runningboxapi.azurewebsites.net/api/orden/Get/PRUEBA71/WiW7X46C9rgckd6pD485wg==\n",
      "*** *** **\n"
     ]
    },
    {
     "data": {
      "text/plain": [
       "{'status': 200,\n",
       " 'data': [{'NRO_OS': '1000338396',\n",
       "   'CLIENTE': 'Luis Fernando',\n",
       "   'ID_CPOINT': '71',\n",
       "   'DES_CPOINT': 'CREADO',\n",
       "   'FECHA': '02/08/2019',\n",
       "   'HORA': '16:01:47',\n",
       "   'OBSERVACION': ''}]}"
      ]
     },
     "execution_count": 5,
     "metadata": {},
     "output_type": "execute_result"
    }
   ],
   "source": [
    "client.tracking.tracking_service(\n",
    "    {\n",
    "        \"NRO_PEDIDO\":\"PRUEBA71\",\n",
    "        \"CLAVE_API\":\"WiW7X46C9rgckd6pD485wg==\"\n",
    "    }\n",
    ")"
   ]
  },
  {
   "cell_type": "code",
   "execution_count": 7,
   "metadata": {},
   "outputs": [
    {
     "data": {
      "text/plain": [
       "{1: 1, 2: 2}"
      ]
     },
     "execution_count": 7,
     "metadata": {},
     "output_type": "execute_result"
    }
   ],
   "source": [
    "a"
   ]
  },
  {
   "cell_type": "code",
   "execution_count": null,
   "metadata": {},
   "outputs": [],
   "source": []
  }
 ],
 "metadata": {
  "kernelspec": {
   "display_name": "Django Shell-Plus",
   "language": "python",
   "name": "django_extensions"
  },
  "language_info": {
   "codemirror_mode": {
    "name": "ipython",
    "version": 3
   },
   "file_extension": ".py",
   "mimetype": "text/x-python",
   "name": "python",
   "nbconvert_exporter": "python",
   "pygments_lexer": "ipython3",
   "version": "3.7.3"
  }
 },
 "nbformat": 4,
 "nbformat_minor": 4
}
